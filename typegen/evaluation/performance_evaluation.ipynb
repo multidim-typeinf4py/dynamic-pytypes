{
 "cells": [
  {
   "cell_type": "markdown",
   "id": "cf3bf2ca",
   "metadata": {},
   "source": [
    "Note: Before executing the notebook, make sure your anaconda environment does not use python 3.9. Recommended is: 3.10.\n",
    "\n",
    "If a package has to be installed, use the following command:\n",
    "\n",
    "!pip install python_module_to_install"
   ]
  },
  {
   "cell_type": "code",
   "execution_count": 1,
   "id": "db07ed2e",
   "metadata": {
    "scrolled": false
   },
   "outputs": [],
   "source": [
    "import numpy as np\n",
    "import sys\n",
    "import pathlib\n",
    "import matplotlib.pyplot as plt\n",
    "sys.path.append('./../../')\n",
    "from performance_data_file_collector import PerformanceDataFileCollector"
   ]
  },
  {
   "cell_type": "markdown",
   "id": "ce824a59",
   "metadata": {},
   "source": [
    "# Loading Data\n",
    "Todo: Currently referencing the path to the folder containing the test sample files. Replace it with the path to the folder which contains the actual performance data files."
   ]
  },
  {
   "cell_type": "code",
   "execution_count": 9,
   "id": "3c1fa4a5",
   "metadata": {},
   "outputs": [],
   "source": [
    "folder_containing_performance_data = pathlib.Path('./../../tests/resource/external/PyTypes_BinaryFiles/sample_performance_data_files') "
   ]
  },
  {
   "cell_type": "code",
   "execution_count": 10,
   "id": "0d534fb2",
   "metadata": {},
   "outputs": [],
   "source": [
    "performance_data_file_collector = PerformanceDataFileCollector()\n",
    "performance_data_file_collector.collect_data(folder_containing_performance_data, False)\n",
    "performance_data = performance_data_file_collector.performance_data"
   ]
  },
  {
   "cell_type": "code",
   "execution_count": 11,
   "id": "ce0f526a",
   "metadata": {},
   "outputs": [
    {
     "name": "stdout",
     "output_type": "stream",
     "text": [
      "[[ 1.5000e-02  9.7020e-02  1.8200e-01]\n",
      " [-1.0300e-03  2.4912e+00  4.7000e+00]]\n"
     ]
    }
   ],
   "source": [
    "print(performance_data)"
   ]
  },
  {
   "cell_type": "code",
   "execution_count": 12,
   "id": "32d03881",
   "metadata": {},
   "outputs": [],
   "source": [
    "def plot_performance_data(performance_data):\n",
    "    time_normal = performance_data[:, 0]\n",
    "    time_standard_tracer = performance_data[:, 1]\n",
    "    time_optimized_tracer = performance_data[:, 2]\n",
    "\n",
    "    plt.scatter(time_normal, time_standard_tracer, label=\"Standard\")\n",
    "    plt.scatter(time_normal, time_optimized_tracer, label=\"Optimized\")\n",
    "\n",
    "    plt.legend()"
   ]
  },
  {
   "cell_type": "code",
   "execution_count": 13,
   "id": "1364d397",
   "metadata": {
    "scrolled": false
   },
   "outputs": [
    {
     "data": {
      "image/png": "[encoded data removed]",
      "text/plain": [
       "<Figure size 432x288 with 1 Axes>"
      ]
     },
     "metadata": {
      "needs_background": "light"
     },
     "output_type": "display_data"
    }
   ],
   "source": [
    "plot_performance_data(performance_data)"
   ]
  },
  {
   "cell_type": "markdown",
   "id": "71a04a81",
   "metadata": {},
   "source": [
    "# Removing outliers\n",
    "Todo: Use an outlier detection algorithm to to detect outliers in any kind of data."
   ]
  },
  {
   "cell_type": "code",
   "execution_count": null,
   "id": "2553a956",
   "metadata": {},
   "outputs": [],
   "source": []
  }
 ],
 "metadata": {
  "kernelspec": {
   "display_name": "Python 3 (ipykernel)",
   "language": "python",
   "name": "python3"
  },
  "language_info": {
   "codemirror_mode": {
    "name": "ipython",
    "version": 3
   },
   "file_extension": ".py",
   "mimetype": "text/x-python",
   "name": "python",
   "nbconvert_exporter": "python",
   "pygments_lexer": "ipython3",
   "version": "3.10.4"
  }
 },
 "nbformat": 4,
 "nbformat_minor": 5
}
